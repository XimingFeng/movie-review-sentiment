{
 "cells": [
  {
   "cell_type": "code",
   "execution_count": 1,
   "metadata": {
    "collapsed": true
   },
   "outputs": [],
   "source": [
    "import os\n",
    "import sys\n",
    "import importlib"
   ]
  },
  {
   "cell_type": "code",
   "execution_count": 2,
   "metadata": {
    "collapsed": true
   },
   "outputs": [],
   "source": [
    "module_path = os.path.abspath(os.path.join('../..'))\n",
    "if module_path not in sys.path:\n",
    "    sys.path.append(module_path)"
   ]
  },
  {
   "cell_type": "code",
   "execution_count": 3,
   "metadata": {
    "collapsed": true
   },
   "outputs": [],
   "source": [
    "import src.popcorn as popcorn"
   ]
  },
  {
   "cell_type": "code",
   "execution_count": 4,
   "metadata": {
    "collapsed": true
   },
   "outputs": [],
   "source": [
    "popcorn_helper = popcorn.PopcornHelper(root_directory=module_path)"
   ]
  },
  {
   "cell_type": "code",
   "execution_count": 5,
   "metadata": {
    "collapsed": true
   },
   "outputs": [],
   "source": [
    "train_raw, test_raw = popcorn_helper.load_raw_data()"
   ]
  },
  {
   "cell_type": "code",
   "execution_count": 7,
   "metadata": {},
   "outputs": [
    {
     "data": {
      "text/html": [
       "<div>\n",
       "<style>\n",
       "    .dataframe thead tr:only-child th {\n",
       "        text-align: right;\n",
       "    }\n",
       "\n",
       "    .dataframe thead th {\n",
       "        text-align: left;\n",
       "    }\n",
       "\n",
       "    .dataframe tbody tr th {\n",
       "        vertical-align: top;\n",
       "    }\n",
       "</style>\n",
       "<table border=\"1\" class=\"dataframe\">\n",
       "  <thead>\n",
       "    <tr style=\"text-align: right;\">\n",
       "      <th></th>\n",
       "      <th>id</th>\n",
       "      <th>sentiment</th>\n",
       "      <th>review</th>\n",
       "    </tr>\n",
       "  </thead>\n",
       "  <tbody>\n",
       "    <tr>\n",
       "      <th>0</th>\n",
       "      <td>5814_8</td>\n",
       "      <td>1</td>\n",
       "      <td>With all this stuff going down at the moment w...</td>\n",
       "    </tr>\n",
       "    <tr>\n",
       "      <th>1</th>\n",
       "      <td>2381_9</td>\n",
       "      <td>1</td>\n",
       "      <td>\\The Classic War of the Worlds\\\" by Timothy Hi...</td>\n",
       "    </tr>\n",
       "    <tr>\n",
       "      <th>2</th>\n",
       "      <td>7759_3</td>\n",
       "      <td>0</td>\n",
       "      <td>The film starts with a manager (Nicholas Bell)...</td>\n",
       "    </tr>\n",
       "    <tr>\n",
       "      <th>3</th>\n",
       "      <td>3630_4</td>\n",
       "      <td>0</td>\n",
       "      <td>It must be assumed that those who praised this...</td>\n",
       "    </tr>\n",
       "    <tr>\n",
       "      <th>4</th>\n",
       "      <td>9495_8</td>\n",
       "      <td>1</td>\n",
       "      <td>Superbly trashy and wondrously unpretentious 8...</td>\n",
       "    </tr>\n",
       "  </tbody>\n",
       "</table>\n",
       "</div>"
      ],
      "text/plain": [
       "       id  sentiment                                             review\n",
       "0  5814_8          1  With all this stuff going down at the moment w...\n",
       "1  2381_9          1  \\The Classic War of the Worlds\\\" by Timothy Hi...\n",
       "2  7759_3          0  The film starts with a manager (Nicholas Bell)...\n",
       "3  3630_4          0  It must be assumed that those who praised this...\n",
       "4  9495_8          1  Superbly trashy and wondrously unpretentious 8..."
      ]
     },
     "execution_count": 7,
     "metadata": {},
     "output_type": "execute_result"
    }
   ],
   "source": [
    "train_raw.head()"
   ]
  },
  {
   "cell_type": "code",
   "execution_count": 8,
   "metadata": {},
   "outputs": [
    {
     "data": {
      "text/html": [
       "<div>\n",
       "<style>\n",
       "    .dataframe thead tr:only-child th {\n",
       "        text-align: right;\n",
       "    }\n",
       "\n",
       "    .dataframe thead th {\n",
       "        text-align: left;\n",
       "    }\n",
       "\n",
       "    .dataframe tbody tr th {\n",
       "        vertical-align: top;\n",
       "    }\n",
       "</style>\n",
       "<table border=\"1\" class=\"dataframe\">\n",
       "  <thead>\n",
       "    <tr style=\"text-align: right;\">\n",
       "      <th></th>\n",
       "      <th>id</th>\n",
       "      <th>review</th>\n",
       "    </tr>\n",
       "  </thead>\n",
       "  <tbody>\n",
       "    <tr>\n",
       "      <th>0</th>\n",
       "      <td>12311_10</td>\n",
       "      <td>Naturally in a film who's main themes are of m...</td>\n",
       "    </tr>\n",
       "    <tr>\n",
       "      <th>1</th>\n",
       "      <td>8348_2</td>\n",
       "      <td>This movie is a disaster within a disaster fil...</td>\n",
       "    </tr>\n",
       "    <tr>\n",
       "      <th>2</th>\n",
       "      <td>5828_4</td>\n",
       "      <td>All in all, this is a movie for kids. We saw i...</td>\n",
       "    </tr>\n",
       "    <tr>\n",
       "      <th>3</th>\n",
       "      <td>7186_2</td>\n",
       "      <td>Afraid of the Dark left me with the impression...</td>\n",
       "    </tr>\n",
       "    <tr>\n",
       "      <th>4</th>\n",
       "      <td>12128_7</td>\n",
       "      <td>A very accurate depiction of small time mob li...</td>\n",
       "    </tr>\n",
       "  </tbody>\n",
       "</table>\n",
       "</div>"
      ],
      "text/plain": [
       "         id                                             review\n",
       "0  12311_10  Naturally in a film who's main themes are of m...\n",
       "1    8348_2  This movie is a disaster within a disaster fil...\n",
       "2    5828_4  All in all, this is a movie for kids. We saw i...\n",
       "3    7186_2  Afraid of the Dark left me with the impression...\n",
       "4   12128_7  A very accurate depiction of small time mob li..."
      ]
     },
     "execution_count": 8,
     "metadata": {},
     "output_type": "execute_result"
    }
   ],
   "source": [
    "test_raw.head()"
   ]
  },
  {
   "cell_type": "code",
   "execution_count": 9,
   "metadata": {
    "collapsed": true
   },
   "outputs": [],
   "source": [
    "sentence_list_clean = popcorn_helper.clean_dtset(train_raw.head(), sentence_col_name=\"review\")"
   ]
  },
  {
   "cell_type": "code",
   "execution_count": 10,
   "metadata": {
    "collapsed": true
   },
   "outputs": [],
   "source": [
    "corpora_dict = popcorn_helper.build_save_dictionary(sentence_list_clean)"
   ]
  },
  {
   "cell_type": "code",
   "execution_count": 11,
   "metadata": {
    "collapsed": true
   },
   "outputs": [],
   "source": [
    "sentence_list_clean2 = popcorn_helper.clean_dtset(test_raw.head(), sentence_col_name=\"review\")"
   ]
  },
  {
   "cell_type": "code",
   "execution_count": 12,
   "metadata": {
    "collapsed": true
   },
   "outputs": [],
   "source": [
    "import numpy as np"
   ]
  },
  {
   "cell_type": "code",
   "execution_count": 10,
   "metadata": {
    "collapsed": true
   },
   "outputs": [],
   "source": [
    "importlib.reload(popcorn)\n",
    "popcorn_helper = popcorn.PopcornHelper(root_directory=module_path)"
   ]
  },
  {
   "cell_type": "code",
   "execution_count": 14,
   "metadata": {},
   "outputs": [
    {
     "data": {
      "text/plain": [
       "array([ list([294, 51, -1, 621, -1, -1, -1, 65, -1, -1, 189, -1, -1, -1, -1, 100, 274, -1, -1, 51, -1, 165, -1, -1, -1, 22, 261, -1, 592, -1, 294, -1, 575, -1, -1, -1, -1, -1, -1, 535, -1, -1, -1, 638, -1, -1, 294, -1, -1, 344, -1, 51, -1, 82, 616, -1, -1, 525, 335, -1, -1, 83, -1, -1, -1, -1, 140, -1, -1, -1, -1, -1]),\n",
       "       list([93, 396, -1, 396, 51, 261, 175, -1, 328, -1, -1, 6, 462, -1, 74, 121, -1, -1, -1, -1, -1, -1, 385, -1, -1, -1, -1, -1, -1, 409, -1, 74, 1, -1, 100, 327, 135, -1, 0, -1, -1, 15, 15, 530, -1, -1, -1, 133, -1, 83, 51, -1, -1, 0, 266, -1, 214, 415, -1, -1, 452, 601, 369, 133, -1, -1, -1, 153, 93, 126, -1, 180, 6, 77, 626, -1, -1, 72, 160, 146, 180, 6, -1, 623, -1, -1]),\n",
       "       list([93, 70, -1, -1, -1, -1, 100, -1, 70, 254, 175, -1, -1, 274, 175, 48, -1, 158, 131, -1, -1, -1, 8, -1, -1, -1, 22, 51, 131, 333, -1, -1, 121, -1, 83, 93, 344, -1, -1, -1, -1, -1, 355, 173, -1, -1, -1, -1, -1, 22, 495, 266, 114, -1, -1, 94, 274, -1, -1, 103, 524, -1, 15, 15, 344, 12, -1, -1, -1, -1, -1, 153, 58, 121, 254, -1, 15, 15, 77, -1, -1]),\n",
       "       list([-1, -1, -1, 64, 603, 34, -1, -1, -1, 49, 179, 51, 474, -1, -1, -1, 15, 15, -1, -1, -1, -1, 415, -1, -1, -1, 22, -1, 15, 15, -1, -1, 391, -1, 289, -1, 100, -1, 461, 82, -1, -1, -1, -1, -1, -1, 145, 121, 298, -1, 595, 22, 391, -1, 559]),\n",
       "       list([-1, -1, 335, 623, -1, 559, 51, -1, -1, 344, 22, 601, -1, -1, -1, -1, 476, -1, 146, 401, -1, -1, 476, 530, 350, -1, -1, 201, 15, 15, -1, -1, -1, 126, 224, 134, 138, 134, -1, 58, -1, -1, 563, -1, -1, -1, -1, 266, -1, 165, -1, 15, 15, 51, -1, 69, -1, -1, -1, 2, -1, -1, -1, -1, 61, -1, -1, -1, -1, 144, 473, -1, 292, -1, -1, 175, 344])], dtype=object)"
      ]
     },
     "execution_count": 14,
     "metadata": {},
     "output_type": "execute_result"
    }
   ],
   "source": [
    "np.array(popcorn_helper.doc_2_ids(sentence_list_clean2, corpora_dict))"
   ]
  },
  {
   "cell_type": "code",
   "execution_count": 15,
   "metadata": {
    "collapsed": true
   },
   "outputs": [],
   "source": [
    "import pandas as pd\n",
    "import numpy as np "
   ]
  },
  {
   "cell_type": "code",
   "execution_count": 16,
   "metadata": {
    "collapsed": true
   },
   "outputs": [],
   "source": []
  },
  {
   "cell_type": "code",
   "execution_count": 11,
   "metadata": {},
   "outputs": [
    {
     "name": "stdout",
     "output_type": "stream",
     "text": [
      "Cleaned data exists, load directly from pickle file\n"
     ]
    }
   ],
   "source": [
    "X_train, X_test, y_train = popcorn_helper.get_train_test()"
   ]
  },
  {
   "cell_type": "code",
   "execution_count": 12,
   "metadata": {},
   "outputs": [],
   "source": [
    "X_train = popcorn_helper.pad_sequence(input_data=X_train, max_len=200)"
   ]
  },
  {
   "cell_type": "code",
   "execution_count": 13,
   "metadata": {},
   "outputs": [
    {
     "data": {
      "text/plain": [
       "(25000, 200)"
      ]
     },
     "execution_count": 13,
     "metadata": {},
     "output_type": "execute_result"
    }
   ],
   "source": [
    "X_train.shape"
   ]
  },
  {
   "cell_type": "code",
   "execution_count": 14,
   "metadata": {},
   "outputs": [
    {
     "data": {
      "text/plain": [
       "array([[128,  58,  91,  90, 126,  79,  94, 146,  99,  36, 146, 151, 146,\n",
       "         92,  85, 145,  55,  21,  66,  61, 136, 114,  28,  41,  85,  83,\n",
       "         88, 148,  60,  65,  92, 103,  11, 103,  49,  51, 116,  58, 121,\n",
       "         23, 101, 115, 131,  86,  90,  50, 137, 111,   2,  98,  86,  38,\n",
       "          7,  15,  15, 144,  64,  29,  87,  68, 142, 117,  77,  90,   4,\n",
       "         58,  62,  53,  13,  84,  18,  90,  40,  26,  83,  93,  90,  48,\n",
       "        153, 120,  82,  48, 139, 114,  97,  15,  15,   0,  49,  51,  12,\n",
       "         52, 126,  89,  45, 124,  30, 122,  69, 107,  27, 112, 110,  38,\n",
       "         80, 145,  90,  32,   7,  10,  90, 102, 108,  96,  69, 107,  22,\n",
       "        113, 145, 105,  72, 132,  38,  43,  39,  85,  62,  90,  15,  15,\n",
       "         81,  28, 134,  77,  90, 141,  20, 118, 149, 125,  33, 122,   2,\n",
       "         35,  95, 104, 119,  19,  51,  71,   7, 122, 143,  35,  62, 152,\n",
       "        100,  70,  74,   1, 149,  17, 106,  25,  31,  15,  15,  14,  78,\n",
       "         93, 105,  77,  90, 100,  75,   3, 135, 105, 127,   6, 138,  57,\n",
       "        150,  86,  67,  90,   9,  16,  93,  56,  87,  68, 140, 100, 133,\n",
       "        105,  44,  59, 109,  60],\n",
       "       [159, 200, 197, 176, 166,  51, 183, 174, 175, 164, 179, 171, 190,\n",
       "        147, 159, 158, 176, 196, 146,  51, 156,  47, 195, 187, 177, 172,\n",
       "        160, 168, 201, 194, 199, 198, 162, 193, 191, 158, 183, 169, 180,\n",
       "         34, 134,  93, 167, 155, 180, 161, 170, 184, 189,  93, 178, 157,\n",
       "         77, 166, 105, 181, 154, 165, 164, 176, 188, 171, 147, 159, 182,\n",
       "        173, 166,  82, 163, 185, 186, 192,   0,   0,   0,   0,   0,   0,\n",
       "          0,   0,   0,   0,   0,   0,   0,   0,   0,   0,   0,   0,   0,\n",
       "          0,   0,   0,   0,   0,   0,   0,   0,   0,   0,   0,   0,   0,\n",
       "          0,   0,   0,   0,   0,   0,   0,   0,   0,   0,   0,   0,   0,\n",
       "          0,   0,   0,   0,   0,   0,   0,   0,   0,   0,   0,   0,   0,\n",
       "          0,   0,   0,   0,   0,   0,   0,   0,   0,   0,   0,   0,   0,\n",
       "          0,   0,   0,   0,   0,   0,   0,   0,   0,   0,   0,   0,   0,\n",
       "          0,   0,   0,   0,   0,   0,   0,   0,   0,   0,   0,   0,   0,\n",
       "          0,   0,   0,   0,   0,   0,   0,   0,   0,   0,   0,   0,   0,\n",
       "          0,   0,   0,   0,   0,   0,   0,   0,   0,   0,   0,   0,   0,\n",
       "          0,   0,   0,   0,   0],\n",
       "       [ 51, 126, 286, 295, 222,  57, 363, 276, 320, 231, 306, 299, 331,\n",
       "        307, 293, 306, 207, 355, 260, 247,  77, 330, 316, 100, 294, 255,\n",
       "        303, 325, 352, 336, 329, 205, 141, 243, 274, 273, 360, 256, 297,\n",
       "        236, 253, 220, 326, 340, 305, 275, 359, 354, 365, 252, 314, 210,\n",
       "        332, 232, 212, 298, 281, 207, 244, 224, 202, 332, 204, 339, 270,\n",
       "        288, 228, 364, 257, 271, 230, 336, 325,  29, 312, 341, 341, 211,\n",
       "        348, 350,  27, 265, 207, 326, 340, 305, 269, 324, 203, 257, 100,\n",
       "        294, 255, 303, 262, 349, 325, 239, 334, 340,  15,  15,  93, 245,\n",
       "        266,  81, 225, 267, 221, 233, 261, 327, 325, 208, 289, 338, 344,\n",
       "        308, 254, 343, 166, 315, 309,  13, 265, 207, 284,  82, 235, 263,\n",
       "        333, 353, 283, 106, 350, 302, 311, 209, 219,  57, 357, 300, 106,\n",
       "        248, 218, 324, 227, 282, 240, 361, 298, 318,  52, 243, 328, 335,\n",
       "         70, 313, 268, 358, 212, 328,  51, 325, 336, 259, 277, 310, 272,\n",
       "        356, 206, 242, 280, 278, 317, 241, 292, 223, 217, 322, 251, 342,\n",
       "        345, 234, 238, 229, 222, 291, 301, 258, 226,  91, 215, 246, 264,\n",
       "        290, 101, 346, 287, 250]], dtype=int32)"
      ]
     },
     "execution_count": 14,
     "metadata": {},
     "output_type": "execute_result"
    }
   ],
   "source": [
    "X_train[0: 3]"
   ]
  },
  {
   "cell_type": "code",
   "execution_count": 26,
   "metadata": {},
   "outputs": [
    {
     "data": {
      "text/plain": [
       "array([0, 0, list([1, 2, 3]), list([2]), list([1, 2, 3, 4]), 0, 0, 0], dtype=object)"
      ]
     },
     "execution_count": 26,
     "metadata": {},
     "output_type": "execute_result"
    }
   ],
   "source": [
    "np.pad(test_seq, [2, 3], 'constant')"
   ]
  },
  {
   "cell_type": "code",
   "execution_count": 44,
   "metadata": {
    "collapsed": true
   },
   "outputs": [],
   "source": [
    "a = [[1, 2, 3, 4], [2, 3, 4], [1], [2, 3 , 6]]"
   ]
  },
  {
   "cell_type": "code",
   "execution_count": 45,
   "metadata": {},
   "outputs": [
    {
     "data": {
      "text/plain": [
       "array([[ 1.,  2.,  3.,  4.,  0.,  0.],\n",
       "       [ 2.,  3.,  4.,  0.,  0.,  0.],\n",
       "       [ 1.,  0.,  0.,  0.,  0.,  0.],\n",
       "       [ 2.,  3.,  6.,  0.,  0.,  0.]])"
      ]
     },
     "execution_count": 45,
     "metadata": {},
     "output_type": "execute_result"
    }
   ],
   "source": [
    "popcorn_helper.pad_sequence(a, 6)"
   ]
  },
  {
   "cell_type": "code",
   "execution_count": 16,
   "metadata": {
    "collapsed": true
   },
   "outputs": [],
   "source": [
    "sample_sentence = [['a', 'b', 'c'], ['d', 'e', 'f']]"
   ]
  },
  {
   "cell_type": "code",
   "execution_count": 32,
   "metadata": {
    "collapsed": true
   },
   "outputs": [],
   "source": [
    "from gensim import corpora"
   ]
  },
  {
   "cell_type": "code",
   "execution_count": 33,
   "metadata": {
    "collapsed": true
   },
   "outputs": [],
   "source": [
    "cd = corpora.Dictionary(sample_sentence)"
   ]
  },
  {
   "cell_type": "code",
   "execution_count": 34,
   "metadata": {},
   "outputs": [
    {
     "data": {
      "text/plain": [
       "<gensim.corpora.dictionary.Dictionary at 0x113b717f0>"
      ]
     },
     "execution_count": 34,
     "metadata": {},
     "output_type": "execute_result"
    }
   ],
   "source": [
    "cd"
   ]
  },
  {
   "cell_type": "code",
   "execution_count": 35,
   "metadata": {},
   "outputs": [
    {
     "data": {
      "text/plain": [
       "{'a': 0, 'b': 1, 'c': 2, 'd': 3, 'e': 4, 'f': 5}"
      ]
     },
     "execution_count": 35,
     "metadata": {},
     "output_type": "execute_result"
    }
   ],
   "source": [
    "cd.token2id"
   ]
  },
  {
   "cell_type": "code",
   "execution_count": 24,
   "metadata": {
    "collapsed": true
   },
   "outputs": [],
   "source": []
  },
  {
   "cell_type": "code",
   "execution_count": null,
   "metadata": {},
   "outputs": [],
   "source": []
  },
  {
   "cell_type": "code",
   "execution_count": 36,
   "metadata": {
    "collapsed": true
   },
   "outputs": [],
   "source": [
    "cd.patch_with_special_tokens({\n",
    "    '<PADDNING>': 0,\n",
    "    '<UNKNOWN>': 1\n",
    "})"
   ]
  },
  {
   "cell_type": "code",
   "execution_count": 37,
   "metadata": {},
   "outputs": [
    {
     "data": {
      "text/plain": [
       "{'<PADDNING>': 0,\n",
       " '<UNKNOWN>': 1,\n",
       " 'a': 7,\n",
       " 'b': 6,\n",
       " 'c': 2,\n",
       " 'd': 3,\n",
       " 'e': 4,\n",
       " 'f': 5}"
      ]
     },
     "execution_count": 37,
     "metadata": {},
     "output_type": "execute_result"
    }
   ],
   "source": [
    "cd.token2id"
   ]
  },
  {
   "cell_type": "code",
   "execution_count": 38,
   "metadata": {},
   "outputs": [
    {
     "data": {
      "text/plain": [
       "[7, 6, -1]"
      ]
     },
     "execution_count": 38,
     "metadata": {},
     "output_type": "execute_result"
    }
   ],
   "source": [
    "cd.doc2idx(['a', 'b', 'n'])"
   ]
  },
  {
   "cell_type": "code",
   "execution_count": null,
   "metadata": {
    "collapsed": true
   },
   "outputs": [],
   "source": []
  }
 ],
 "metadata": {
  "kernelspec": {
   "display_name": "Python 3",
   "language": "python",
   "name": "python3"
  },
  "language_info": {
   "codemirror_mode": {
    "name": "ipython",
    "version": 3
   },
   "file_extension": ".py",
   "mimetype": "text/x-python",
   "name": "python",
   "nbconvert_exporter": "python",
   "pygments_lexer": "ipython3",
   "version": "3.5.4"
  }
 },
 "nbformat": 4,
 "nbformat_minor": 2
}
