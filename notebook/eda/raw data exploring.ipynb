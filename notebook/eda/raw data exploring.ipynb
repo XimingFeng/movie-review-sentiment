{
 "cells": [
  {
   "cell_type": "code",
   "execution_count": 1,
   "metadata": {},
   "outputs": [],
   "source": [
    "import os\n",
    "import sys\n",
    "import importlib"
   ]
  },
  {
   "cell_type": "code",
   "execution_count": 2,
   "metadata": {},
   "outputs": [
    {
     "data": {
      "text/plain": [
       "'/home/ximingfeng/reditmovie'"
      ]
     },
     "execution_count": 2,
     "metadata": {},
     "output_type": "execute_result"
    }
   ],
   "source": [
    "os.path.abspath('../..')"
   ]
  },
  {
   "cell_type": "code",
   "execution_count": 3,
   "metadata": {},
   "outputs": [
    {
     "data": {
      "text/plain": [
       "'/home/ximingfeng/reditmovie'"
      ]
     },
     "execution_count": 3,
     "metadata": {},
     "output_type": "execute_result"
    }
   ],
   "source": [
    "os.path.abspath(os.path.join('../..'))"
   ]
  },
  {
   "cell_type": "code",
   "execution_count": 4,
   "metadata": {},
   "outputs": [
    {
     "data": {
      "text/plain": [
       "['',\n",
       " '/home/ximingfeng/anaconda3/envs/tfdeeplearning/lib/python35.zip',\n",
       " '/home/ximingfeng/anaconda3/envs/tfdeeplearning/lib/python3.5',\n",
       " '/home/ximingfeng/anaconda3/envs/tfdeeplearning/lib/python3.5/plat-linux',\n",
       " '/home/ximingfeng/anaconda3/envs/tfdeeplearning/lib/python3.5/lib-dynload',\n",
       " '/home/ximingfeng/.local/lib/python3.5/site-packages',\n",
       " '/home/ximingfeng/anaconda3/envs/tfdeeplearning/lib/python3.5/site-packages',\n",
       " '/home/ximingfeng/anaconda3/envs/tfdeeplearning/lib/python3.5/site-packages/IPython/extensions',\n",
       " '/home/ximingfeng/.ipython']"
      ]
     },
     "execution_count": 4,
     "metadata": {},
     "output_type": "execute_result"
    }
   ],
   "source": [
    "sys.path"
   ]
  },
  {
   "cell_type": "code",
   "execution_count": 5,
   "metadata": {},
   "outputs": [],
   "source": [
    "module_path = os.path.abspath(os.path.join('../..'))"
   ]
  },
  {
   "cell_type": "code",
   "execution_count": 6,
   "metadata": {},
   "outputs": [],
   "source": [
    "if module_path not in sys.path:\n",
    "    sys.path.append(module_path)"
   ]
  },
  {
   "cell_type": "code",
   "execution_count": null,
   "metadata": {},
   "outputs": [],
   "source": []
  },
  {
   "cell_type": "code",
   "execution_count": 7,
   "metadata": {},
   "outputs": [
    {
     "data": {
      "text/plain": [
       "['',\n",
       " '/home/ximingfeng/anaconda3/envs/tfdeeplearning/lib/python35.zip',\n",
       " '/home/ximingfeng/anaconda3/envs/tfdeeplearning/lib/python3.5',\n",
       " '/home/ximingfeng/anaconda3/envs/tfdeeplearning/lib/python3.5/plat-linux',\n",
       " '/home/ximingfeng/anaconda3/envs/tfdeeplearning/lib/python3.5/lib-dynload',\n",
       " '/home/ximingfeng/.local/lib/python3.5/site-packages',\n",
       " '/home/ximingfeng/anaconda3/envs/tfdeeplearning/lib/python3.5/site-packages',\n",
       " '/home/ximingfeng/anaconda3/envs/tfdeeplearning/lib/python3.5/site-packages/IPython/extensions',\n",
       " '/home/ximingfeng/.ipython',\n",
       " '/home/ximingfeng/reditmovie']"
      ]
     },
     "execution_count": 7,
     "metadata": {},
     "output_type": "execute_result"
    }
   ],
   "source": [
    "sys.path"
   ]
  },
  {
   "cell_type": "code",
   "execution_count": 8,
   "metadata": {},
   "outputs": [],
   "source": [
    "import src.popcorn as popcorn"
   ]
  },
  {
   "cell_type": "code",
   "execution_count": 9,
   "metadata": {},
   "outputs": [],
   "source": [
    "importlib.reload(popcorn)\n",
    "popcorn_helper = popcorn.PopcornHelper()"
   ]
  },
  {
   "cell_type": "code",
   "execution_count": 10,
   "metadata": {},
   "outputs": [],
   "source": [
    "train_raw, test_raw = popcorn_helper.load_raw_data(folder_path=module_path + \"/data/\")"
   ]
  },
  {
   "cell_type": "code",
   "execution_count": 11,
   "metadata": {},
   "outputs": [
    {
     "data": {
      "text/html": [
       "<div>\n",
       "<style scoped>\n",
       "    .dataframe tbody tr th:only-of-type {\n",
       "        vertical-align: middle;\n",
       "    }\n",
       "\n",
       "    .dataframe tbody tr th {\n",
       "        vertical-align: top;\n",
       "    }\n",
       "\n",
       "    .dataframe thead th {\n",
       "        text-align: right;\n",
       "    }\n",
       "</style>\n",
       "<table border=\"1\" class=\"dataframe\">\n",
       "  <thead>\n",
       "    <tr style=\"text-align: right;\">\n",
       "      <th></th>\n",
       "      <th>id</th>\n",
       "      <th>sentiment</th>\n",
       "      <th>review</th>\n",
       "    </tr>\n",
       "  </thead>\n",
       "  <tbody>\n",
       "    <tr>\n",
       "      <th>0</th>\n",
       "      <td>5814_8</td>\n",
       "      <td>1</td>\n",
       "      <td>With all this stuff going down at the moment w...</td>\n",
       "    </tr>\n",
       "    <tr>\n",
       "      <th>1</th>\n",
       "      <td>2381_9</td>\n",
       "      <td>1</td>\n",
       "      <td>\\The Classic War of the Worlds\\\" by Timothy Hi...</td>\n",
       "    </tr>\n",
       "    <tr>\n",
       "      <th>2</th>\n",
       "      <td>7759_3</td>\n",
       "      <td>0</td>\n",
       "      <td>The film starts with a manager (Nicholas Bell)...</td>\n",
       "    </tr>\n",
       "    <tr>\n",
       "      <th>3</th>\n",
       "      <td>3630_4</td>\n",
       "      <td>0</td>\n",
       "      <td>It must be assumed that those who praised this...</td>\n",
       "    </tr>\n",
       "    <tr>\n",
       "      <th>4</th>\n",
       "      <td>9495_8</td>\n",
       "      <td>1</td>\n",
       "      <td>Superbly trashy and wondrously unpretentious 8...</td>\n",
       "    </tr>\n",
       "  </tbody>\n",
       "</table>\n",
       "</div>"
      ],
      "text/plain": [
       "       id  sentiment                                             review\n",
       "0  5814_8          1  With all this stuff going down at the moment w...\n",
       "1  2381_9          1  \\The Classic War of the Worlds\\\" by Timothy Hi...\n",
       "2  7759_3          0  The film starts with a manager (Nicholas Bell)...\n",
       "3  3630_4          0  It must be assumed that those who praised this...\n",
       "4  9495_8          1  Superbly trashy and wondrously unpretentious 8..."
      ]
     },
     "execution_count": 11,
     "metadata": {},
     "output_type": "execute_result"
    }
   ],
   "source": [
    "train_raw.head()"
   ]
  },
  {
   "cell_type": "code",
   "execution_count": 12,
   "metadata": {},
   "outputs": [
    {
     "data": {
      "text/html": [
       "<div>\n",
       "<style scoped>\n",
       "    .dataframe tbody tr th:only-of-type {\n",
       "        vertical-align: middle;\n",
       "    }\n",
       "\n",
       "    .dataframe tbody tr th {\n",
       "        vertical-align: top;\n",
       "    }\n",
       "\n",
       "    .dataframe thead th {\n",
       "        text-align: right;\n",
       "    }\n",
       "</style>\n",
       "<table border=\"1\" class=\"dataframe\">\n",
       "  <thead>\n",
       "    <tr style=\"text-align: right;\">\n",
       "      <th></th>\n",
       "      <th>id</th>\n",
       "      <th>review</th>\n",
       "    </tr>\n",
       "  </thead>\n",
       "  <tbody>\n",
       "    <tr>\n",
       "      <th>0</th>\n",
       "      <td>12311_10</td>\n",
       "      <td>Naturally in a film who's main themes are of m...</td>\n",
       "    </tr>\n",
       "    <tr>\n",
       "      <th>1</th>\n",
       "      <td>8348_2</td>\n",
       "      <td>This movie is a disaster within a disaster fil...</td>\n",
       "    </tr>\n",
       "    <tr>\n",
       "      <th>2</th>\n",
       "      <td>5828_4</td>\n",
       "      <td>All in all, this is a movie for kids. We saw i...</td>\n",
       "    </tr>\n",
       "    <tr>\n",
       "      <th>3</th>\n",
       "      <td>7186_2</td>\n",
       "      <td>Afraid of the Dark left me with the impression...</td>\n",
       "    </tr>\n",
       "    <tr>\n",
       "      <th>4</th>\n",
       "      <td>12128_7</td>\n",
       "      <td>A very accurate depiction of small time mob li...</td>\n",
       "    </tr>\n",
       "  </tbody>\n",
       "</table>\n",
       "</div>"
      ],
      "text/plain": [
       "         id                                             review\n",
       "0  12311_10  Naturally in a film who's main themes are of m...\n",
       "1    8348_2  This movie is a disaster within a disaster fil...\n",
       "2    5828_4  All in all, this is a movie for kids. We saw i...\n",
       "3    7186_2  Afraid of the Dark left me with the impression...\n",
       "4   12128_7  A very accurate depiction of small time mob li..."
      ]
     },
     "execution_count": 12,
     "metadata": {},
     "output_type": "execute_result"
    }
   ],
   "source": [
    "test_raw.head()"
   ]
  },
  {
   "cell_type": "code",
   "execution_count": 13,
   "metadata": {},
   "outputs": [],
   "source": [
    "sample_review = train_raw.iloc[0][\"review\"]"
   ]
  },
  {
   "cell_type": "code",
   "execution_count": 14,
   "metadata": {},
   "outputs": [
    {
     "data": {
      "text/plain": [
       "\"With all this stuff going down at the moment with MJ i've started listening to his music, watching the odd documentary here and there, watched The Wiz and watched Moonwalker again. Maybe i just want to get a certain insight into this guy who i thought was really cool in the eighties just to maybe make up my mind whether he is guilty or innocent. Moonwalker is part biography, part feature film which i remember going to see at the cinema when it was originally released. Some of it has subtle messages about MJ's feeling towards the press and also the obvious message of drugs are bad m'kay.<br /><br />Visually impressive but of course this is all about Michael Jackson so unless you remotely like MJ in anyway then you are going to hate this and find it boring. Some may call MJ an egotist for consenting to the making of this movie BUT MJ and most of his fans would say that he made it for the fans which if true is really nice of him.<br /><br />The actual feature film bit when it finally starts is only on for 20 minutes or so excluding the Smooth Criminal sequence and Joe Pesci is convincing as a psychopathic all powerful drug lord. Why he wants MJ dead so bad is beyond me. Because MJ overheard his plans? Nah, Joe Pesci's character ranted that he wanted people to know it is he who is supplying drugs etc so i dunno, maybe he just hates MJ's music.<br /><br />Lots of cool things in this like MJ turning into a car and a robot and the whole Speed Demon sequence. Also, the director must have had the patience of a saint when it came to filming the kiddy Bad sequence as usually directors hate working with one kid let alone a whole bunch of them performing a complex dance scene.<br /><br />Bottom line, this movie is for people who like MJ on one level or another (which i think is most people). If not, then stay away. It does try and give off a wholesome message and ironically MJ's bestest buddy in this movie is a girl! Michael Jackson is truly one of the most talented people ever to grace this planet but is he guilty? Well, with all the attention i've gave this subject....hmmm well i don't know because people can be different behind closed doors, i know this for a fact. He is either an extremely nice but stupid guy or one of the most sickest liars. I hope he is not the latter.\""
      ]
     },
     "execution_count": 14,
     "metadata": {},
     "output_type": "execute_result"
    }
   ],
   "source": [
    "sample_review"
   ]
  },
  {
   "cell_type": "code",
   "execution_count": 40,
   "metadata": {},
   "outputs": [],
   "source": [
    "importlib.reload(popcorn)\n",
    "popcorn_helper = popcorn.PopcornHelper()"
   ]
  },
  {
   "cell_type": "code",
   "execution_count": 43,
   "metadata": {},
   "outputs": [],
   "source": [
    "sample_review_cleaned = popcorn_helper.clean_sentence(sample_review, remove_stopwords=True)"
   ]
  },
  {
   "cell_type": "code",
   "execution_count": 45,
   "metadata": {
    "scrolled": true
   },
   "outputs": [
    {
     "data": {
      "text/plain": [
       "['stuff',\n",
       " 'go',\n",
       " 'moment',\n",
       " 'mj',\n",
       " 'start',\n",
       " 'listen',\n",
       " 'music',\n",
       " 'watch',\n",
       " 'odd',\n",
       " 'documentari',\n",
       " 'watch',\n",
       " 'wiz',\n",
       " 'watch',\n",
       " 'moonwalk',\n",
       " 'mayb',\n",
       " 'want',\n",
       " 'get',\n",
       " 'certain',\n",
       " 'insight',\n",
       " 'guy',\n",
       " 'thought',\n",
       " 'realli',\n",
       " 'cool',\n",
       " 'eighti',\n",
       " 'mayb',\n",
       " 'make',\n",
       " 'mind',\n",
       " 'whether',\n",
       " 'guilti',\n",
       " 'innoc',\n",
       " 'moonwalk',\n",
       " 'part',\n",
       " 'biographi',\n",
       " 'part',\n",
       " 'featur',\n",
       " 'film',\n",
       " 'rememb',\n",
       " 'go',\n",
       " 'see',\n",
       " 'cinema',\n",
       " 'origin',\n",
       " 'releas',\n",
       " 'subtl',\n",
       " 'messag',\n",
       " 'mj',\n",
       " 'feel',\n",
       " 'toward',\n",
       " 'press',\n",
       " 'also',\n",
       " 'obviou',\n",
       " 'messag',\n",
       " 'drug',\n",
       " 'bad',\n",
       " 'br',\n",
       " 'br',\n",
       " 'visual',\n",
       " 'impress',\n",
       " 'cours',\n",
       " 'michael',\n",
       " 'jackson',\n",
       " 'unless',\n",
       " 'remot',\n",
       " 'like',\n",
       " 'mj',\n",
       " 'anyway',\n",
       " 'go',\n",
       " 'hate',\n",
       " 'find',\n",
       " 'bore',\n",
       " 'may',\n",
       " 'call',\n",
       " 'mj',\n",
       " 'egotist',\n",
       " 'consent',\n",
       " 'make',\n",
       " 'movi',\n",
       " 'mj',\n",
       " 'fan',\n",
       " 'would',\n",
       " 'say',\n",
       " 'made',\n",
       " 'fan',\n",
       " 'true',\n",
       " 'realli',\n",
       " 'nice',\n",
       " 'br',\n",
       " 'br',\n",
       " 'actual',\n",
       " 'featur',\n",
       " 'film',\n",
       " 'bit',\n",
       " 'final',\n",
       " 'start',\n",
       " 'minut',\n",
       " 'exclud',\n",
       " 'smooth',\n",
       " 'crimin',\n",
       " 'sequenc',\n",
       " 'joe',\n",
       " 'pesci',\n",
       " 'convinc',\n",
       " 'psychopath',\n",
       " 'power',\n",
       " 'drug',\n",
       " 'lord',\n",
       " 'want',\n",
       " 'mj',\n",
       " 'dead',\n",
       " 'bad',\n",
       " 'beyond',\n",
       " 'mj',\n",
       " 'overheard',\n",
       " 'plan',\n",
       " 'nah',\n",
       " 'joe',\n",
       " 'pesci',\n",
       " 'charact',\n",
       " 'rant',\n",
       " 'want',\n",
       " 'peopl',\n",
       " 'know',\n",
       " 'suppli',\n",
       " 'drug',\n",
       " 'etc',\n",
       " 'dunno',\n",
       " 'mayb',\n",
       " 'hate',\n",
       " 'mj',\n",
       " 'br',\n",
       " 'br',\n",
       " 'lot',\n",
       " 'cool',\n",
       " 'thing',\n",
       " 'like',\n",
       " 'mj',\n",
       " 'turn',\n",
       " 'car',\n",
       " 'robot',\n",
       " 'whole',\n",
       " 'speed',\n",
       " 'demon',\n",
       " 'sequenc',\n",
       " 'also',\n",
       " 'director',\n",
       " 'must',\n",
       " 'patienc',\n",
       " 'saint',\n",
       " 'came',\n",
       " 'film',\n",
       " 'kiddi',\n",
       " 'bad',\n",
       " 'sequenc',\n",
       " 'usual',\n",
       " 'director',\n",
       " 'hate',\n",
       " 'work',\n",
       " 'one',\n",
       " 'kid',\n",
       " 'let',\n",
       " 'alon',\n",
       " 'whole',\n",
       " 'bunch',\n",
       " 'perform',\n",
       " 'complex',\n",
       " 'danc',\n",
       " 'br',\n",
       " 'br',\n",
       " 'bottom',\n",
       " 'line',\n",
       " 'movi',\n",
       " 'peopl',\n",
       " 'like',\n",
       " 'mj',\n",
       " 'one',\n",
       " 'level',\n",
       " 'anoth',\n",
       " 'think',\n",
       " 'peopl',\n",
       " 'stay',\n",
       " 'away',\n",
       " 'tri',\n",
       " 'give',\n",
       " 'wholesom',\n",
       " 'messag',\n",
       " 'iron',\n",
       " 'mj',\n",
       " 'bestest',\n",
       " 'buddi',\n",
       " 'movi',\n",
       " 'girl',\n",
       " 'michael',\n",
       " 'jackson',\n",
       " 'truli',\n",
       " 'one',\n",
       " 'talent',\n",
       " 'peopl',\n",
       " 'ever',\n",
       " 'grace',\n",
       " 'planet',\n",
       " 'guilti',\n",
       " 'well',\n",
       " 'attent',\n",
       " 'gave',\n",
       " 'subject',\n",
       " 'well',\n",
       " 'know',\n",
       " 'peopl',\n",
       " 'differ',\n",
       " 'behind',\n",
       " 'close',\n",
       " 'door',\n",
       " 'know',\n",
       " 'fact',\n",
       " 'either',\n",
       " 'extrem',\n",
       " 'nice',\n",
       " 'stupid',\n",
       " 'guy',\n",
       " 'one',\n",
       " 'sickest',\n",
       " 'liar',\n",
       " 'hope',\n",
       " 'latter']"
      ]
     },
     "execution_count": 45,
     "metadata": {},
     "output_type": "execute_result"
    }
   ],
   "source": [
    "sample_review_cleaned"
   ]
  },
  {
   "cell_type": "code",
   "execution_count": 18,
   "metadata": {},
   "outputs": [
    {
     "data": {
      "text/plain": [
       "False"
      ]
     },
     "execution_count": 18,
     "metadata": {},
     "output_type": "execute_result"
    }
   ],
   "source": [
    "popcorn_helper.is_valid_word('worlds\\\\', remove_stop_wds=False)"
   ]
  },
  {
   "cell_type": "code",
   "execution_count": 19,
   "metadata": {},
   "outputs": [],
   "source": [
    "from nltk.corpus import stopwords"
   ]
  },
  {
   "cell_type": "code",
   "execution_count": 20,
   "metadata": {},
   "outputs": [
    {
     "data": {
      "text/plain": [
       "25000"
      ]
     },
     "execution_count": 20,
     "metadata": {},
     "output_type": "execute_result"
    }
   ],
   "source": [
    "len(train_raw)"
   ]
  },
  {
   "cell_type": "code",
   "execution_count": 49,
   "metadata": {},
   "outputs": [],
   "source": [
    "cleaned_dtset = popcorn_helper.clean_dtset(train_raw, sentence_col_name=\"review\")"
   ]
  },
  {
   "cell_type": "code",
   "execution_count": 50,
   "metadata": {},
   "outputs": [],
   "source": [
    "corpora_dict = popcorn_helper.build_dictionary(cleaned_dtset)"
   ]
  },
  {
   "cell_type": "code",
   "execution_count": 52,
   "metadata": {},
   "outputs": [
    {
     "name": "stdout",
     "output_type": "stream",
     "text": [
      "[128, 58, 91, 90, 126, 79, 94, 146, 99, 36, 146, 151, 146, 92, 85, 145, 55, 21, 66, 61, 136, 114, 28, 41, 85, 83, 88, 148, 60, 65, 92, 103, 11, 103, 49, 51, 116, 58, 121, 23, 101, 115, 131, 86, 90, 50, 137, 111, 2, 98, 86, 38, 7, 15, 15, 144, 64, 29, 87, 68, 142, 117, 77, 90, 4, 58, 62, 53, 13, 84, 18, 90, 40, 26, 83, 93, 90, 48, 153, 120, 82, 48, 139, 114, 97, 15, 15, 0, 49, 51, 12, 52, 126, 89, 45, 124, 30, 122, 69, 107, 27, 112, 110, 38, 80, 145, 90, 32, 7, 10, 90, 102, 108, 96, 69, 107, 22, 113, 145, 105, 72, 132, 38, 43, 39, 85, 62, 90, 15, 15, 81, 28, 134, 77, 90, 141, 20, 118, 149, 125, 33, 122, 2, 35, 95, 104, 119, 19, 51, 71, 7, 122, 143, 35, 62, 152, 100, 70, 74, 1, 149, 17, 106, 25, 31, 15, 15, 14, 78, 93, 105, 77, 90, 100, 75, 3, 135, 105, 127, 6, 138, 57, 150, 86, 67, 90, 9, 16, 93, 56, 87, 68, 140, 100, 133, 105, 44, 59, 109, 60, 147, 5, 54, 130, 147, 72, 105, 34, 8, 24, 37, 72, 47, 42, 46, 97, 129, 61, 100, 123, 76, 63, 73]\n"
     ]
    }
   ],
   "source": [
    "print(corpora_dict.doc2idx(sample_review_cleaned))"
   ]
  },
  {
   "cell_type": "code",
   "execution_count": 27,
   "metadata": {},
   "outputs": [
    {
     "data": {
      "text/plain": [
       "'at'"
      ]
     },
     "execution_count": 27,
     "metadata": {},
     "output_type": "execute_result"
    }
   ],
   "source": []
  },
  {
   "cell_type": "code",
   "execution_count": 28,
   "metadata": {},
   "outputs": [
    {
     "data": {
      "text/plain": [
       "'the'"
      ]
     },
     "execution_count": 28,
     "metadata": {},
     "output_type": "execute_result"
    }
   ],
   "source": []
  },
  {
   "cell_type": "code",
   "execution_count": 29,
   "metadata": {},
   "outputs": [
    {
     "data": {
      "text/plain": [
       "'i'"
      ]
     },
     "execution_count": 29,
     "metadata": {},
     "output_type": "execute_result"
    }
   ],
   "source": []
  },
  {
   "cell_type": "code",
   "execution_count": null,
   "metadata": {},
   "outputs": [],
   "source": []
  }
 ],
 "metadata": {
  "kernelspec": {
   "display_name": "tfdeeplearning",
   "language": "python",
   "name": "tfdeeplearning"
  },
  "language_info": {
   "codemirror_mode": {
    "name": "ipython",
    "version": 3
   },
   "file_extension": ".py",
   "mimetype": "text/x-python",
   "name": "python",
   "nbconvert_exporter": "python",
   "pygments_lexer": "ipython3",
   "version": "3.5.4"
  }
 },
 "nbformat": 4,
 "nbformat_minor": 2
}
