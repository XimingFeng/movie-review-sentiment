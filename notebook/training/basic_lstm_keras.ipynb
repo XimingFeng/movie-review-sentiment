{
 "cells": [
  {
   "cell_type": "code",
   "execution_count": 1,
   "metadata": {},
   "outputs": [],
   "source": [
    "import os\n",
    "import sys\n",
    "import autoreload\n",
    "import tensorflow as tf\n",
    "\n",
    "os.environ['TF_CPP_MIN_LOG_LEVEL'] = '3'\n",
    "tf.logging.set_verbosity(tf.logging.ERROR)\n",
    "%load_ext autoreload\n",
    "%autoreload 2"
   ]
  },
  {
   "cell_type": "code",
   "execution_count": 2,
   "metadata": {},
   "outputs": [],
   "source": [
    "module_path = os.path.abspath(os.path.join('../..'))\n",
    "if module_path not in sys.path:\n",
    "    sys.path.append(module_path)"
   ]
  },
  {
   "cell_type": "code",
   "execution_count": 3,
   "metadata": {},
   "outputs": [],
   "source": [
    "from src.preprocessing_helper import PreprocessingHelper"
   ]
  },
  {
   "cell_type": "code",
   "execution_count": 4,
   "metadata": {},
   "outputs": [],
   "source": [
    "max_doc_len = 200\n",
    "vocab_size = 50000\n"
   ]
  },
  {
   "cell_type": "code",
   "execution_count": 5,
   "metadata": {},
   "outputs": [
    {
     "name": "stdout",
     "output_type": "stream",
     "text": [
      "preprocessed data loaded from /home/ximing/dl/projects/movie-review/data/preprocessed_data.pickle\n",
      "Training data: (24975, 200)\n",
      "Training label: (24975,)\n",
      "Validation data: (25, 200)\n",
      "Validation lable: (25,)\n",
      "Test set (25000, 200)\n"
     ]
    }
   ],
   "source": [
    "prep_helper = PreprocessingHelper(module_path, max_doc_len, vocab_size + 1)"
   ]
  },
  {
   "cell_type": "code",
   "execution_count": 6,
   "metadata": {},
   "outputs": [],
   "source": [
    "model_config = {\n",
    "    \"embedding_size\":256,\n",
    "    \"lstm_units\": 128,\n",
    "    \"dense_units\": [256],\n",
    "    \"doc_len\": 200,\n",
    "    \"vocab_size\":5000\n",
    "}"
   ]
  },
  {
   "cell_type": "code",
   "execution_count": 7,
   "metadata": {},
   "outputs": [],
   "source": [
    "from src.lstm_keras import ModelLSTM"
   ]
  },
  {
   "cell_type": "code",
   "execution_count": null,
   "metadata": {},
   "outputs": [],
   "source": []
  },
  {
   "cell_type": "code",
   "execution_count": 8,
   "metadata": {
    "scrolled": false
   },
   "outputs": [
    {
     "name": "stdout",
     "output_type": "stream",
     "text": [
      "Found matching configuration with id: 2\n",
      "Found existing trained weights, loaded to model\n",
      "Model: \"sequential\"\n",
      "_________________________________________________________________\n",
      "Layer (type)                 Output Shape              Param #   \n",
      "=================================================================\n",
      "embedding (Embedding)        (None, 200, 256)          1280000   \n",
      "_________________________________________________________________\n",
      "lstm (LSTM)                  (None, 128)               197120    \n",
      "_________________________________________________________________\n",
      "dense (Dense)                (None, 256)               33024     \n",
      "_________________________________________________________________\n",
      "batch_normalization (BatchNo (None, 256)               1024      \n",
      "_________________________________________________________________\n",
      "dense_1 (Dense)              (None, 1)                 257       \n",
      "=================================================================\n",
      "Total params: 1,511,425\n",
      "Trainable params: 1,510,913\n",
      "Non-trainable params: 512\n",
      "_________________________________________________________________\n",
      "None\n"
     ]
    }
   ],
   "source": [
    "lstm_model = ModelLSTM(module_path, model_config, verbose=True)"
   ]
  },
  {
   "cell_type": "code",
   "execution_count": null,
   "metadata": {},
   "outputs": [],
   "source": []
  },
  {
   "cell_type": "code",
   "execution_count": 9,
   "metadata": {},
   "outputs": [],
   "source": [
    "training_config = {\n",
    "    \"steps_p_epoch\": 8,\n",
    "    \"eps\": 100,\n",
    "    \"val_data\": (prep_helper.X_val, prep_helper.y_val),\n",
    "    \"val_freq\": 1, \n",
    "    \"verbose\": True,\n",
    "    \"lr\": 0.001\n",
    "}\n",
    "bs = 12\n"
   ]
  },
  {
   "cell_type": "code",
   "execution_count": 10,
   "metadata": {},
   "outputs": [],
   "source": [
    "# prep_helper.X_train.shape\n",
    "# prep_helper.X_train[0, :]"
   ]
  },
  {
   "cell_type": "code",
   "execution_count": null,
   "metadata": {},
   "outputs": [],
   "source": []
  },
  {
   "cell_type": "code",
   "execution_count": 11,
   "metadata": {},
   "outputs": [],
   "source": [
    "# from tensorflow.python.client import device_lib\n",
    "# print(device_lib.list_local_devices())"
   ]
  },
  {
   "cell_type": "code",
   "execution_count": 12,
   "metadata": {
    "scrolled": true
   },
   "outputs": [
    {
     "name": "stdout",
     "output_type": "stream",
     "text": [
      "Found existing trained weights, loaded to model\n",
      "Epoch 1/100\n",
      "8/8 [==============================] - 4s 451ms/step - loss: 0.5796 - acc: 0.7292 - val_loss: 0.4567 - val_acc: 0.6800\n",
      "Epoch 2/100\n",
      "8/8 [==============================] - 2s 254ms/step - loss: 0.6119 - acc: 0.7292 - val_loss: 0.4673 - val_acc: 0.5600\n",
      "Epoch 3/100\n",
      "8/8 [==============================] - 2s 251ms/step - loss: 0.5104 - acc: 0.7812 - val_loss: 0.4178 - val_acc: 0.5600\n",
      "Epoch 4/100\n",
      "8/8 [==============================] - 2s 262ms/step - loss: 0.4993 - acc: 0.7500 - val_loss: 0.4028 - val_acc: 0.8400\n",
      "Epoch 5/100\n",
      "8/8 [==============================] - 2s 251ms/step - loss: 0.5118 - acc: 0.7604 - val_loss: 0.4170 - val_acc: 0.8400\n",
      "Epoch 6/100\n",
      "8/8 [==============================] - 2s 249ms/step - loss: 0.4222 - acc: 0.8333 - val_loss: 0.4604 - val_acc: 0.8000\n",
      "Epoch 7/100\n",
      "8/8 [==============================] - 2s 261ms/step - loss: 0.4511 - acc: 0.8021 - val_loss: 0.4901 - val_acc: 0.8000\n",
      "Epoch 8/100\n",
      "8/8 [==============================] - 2s 261ms/step - loss: 0.4075 - acc: 0.8229 - val_loss: 0.4560 - val_acc: 0.7600\n",
      "Epoch 9/100\n",
      "8/8 [==============================] - 2s 253ms/step - loss: 0.5360 - acc: 0.7188 - val_loss: 0.4262 - val_acc: 0.8000\n",
      "Epoch 10/100\n",
      "8/8 [==============================] - 2s 255ms/step - loss: 0.4762 - acc: 0.7708 - val_loss: 0.4278 - val_acc: 0.7600\n",
      "Epoch 11/100\n",
      "8/8 [==============================] - 2s 256ms/step - loss: 0.5199 - acc: 0.7708 - val_loss: 0.3980 - val_acc: 0.7200\n",
      "Epoch 12/100\n",
      "8/8 [==============================] - 2s 251ms/step - loss: 0.5567 - acc: 0.7917 - val_loss: 0.3522 - val_acc: 0.8000\n",
      "Epoch 13/100\n",
      "8/8 [==============================] - 2s 263ms/step - loss: 0.4895 - acc: 0.7812 - val_loss: 0.4025 - val_acc: 0.7600\n",
      "Epoch 14/100\n",
      "8/8 [==============================] - 2s 264ms/step - loss: 0.5069 - acc: 0.7812 - val_loss: 0.4110 - val_acc: 0.8000\n",
      "Epoch 15/100\n",
      "8/8 [==============================] - 2s 263ms/step - loss: 0.4849 - acc: 0.7708 - val_loss: 0.3841 - val_acc: 0.8800\n",
      "Epoch 16/100\n",
      "8/8 [==============================] - 2s 265ms/step - loss: 0.5355 - acc: 0.7292 - val_loss: 0.3760 - val_acc: 0.8400\n",
      "Epoch 17/100\n",
      "8/8 [==============================] - 2s 257ms/step - loss: 0.3644 - acc: 0.8750 - val_loss: 0.3670 - val_acc: 0.8400\n",
      "Epoch 18/100\n",
      "8/8 [==============================] - 2s 254ms/step - loss: 0.5497 - acc: 0.7500 - val_loss: 0.4701 - val_acc: 0.7200\n",
      "Epoch 19/100\n",
      "8/8 [==============================] - 2s 259ms/step - loss: 0.5060 - acc: 0.7500 - val_loss: 0.3066 - val_acc: 0.8800\n",
      "Epoch 20/100\n",
      "8/8 [==============================] - 2s 261ms/step - loss: 0.3862 - acc: 0.8229 - val_loss: 0.3220 - val_acc: 0.8000\n",
      "Epoch 21/100\n",
      "8/8 [==============================] - 2s 251ms/step - loss: 0.4098 - acc: 0.8125 - val_loss: 0.4091 - val_acc: 0.6000\n",
      "Epoch 22/100\n",
      "8/8 [==============================] - 2s 249ms/step - loss: 0.5291 - acc: 0.7083 - val_loss: 0.4590 - val_acc: 0.6000\n",
      "Epoch 23/100\n",
      "8/8 [==============================] - 2s 266ms/step - loss: 0.5151 - acc: 0.7812 - val_loss: 0.4160 - val_acc: 0.6000\n",
      "Epoch 24/100\n",
      "8/8 [==============================] - 2s 258ms/step - loss: 0.4976 - acc: 0.7917 - val_loss: 0.3743 - val_acc: 0.8800\n",
      "Epoch 25/100\n",
      "8/8 [==============================] - 2s 250ms/step - loss: 0.5061 - acc: 0.7604 - val_loss: 0.4928 - val_acc: 0.7200\n",
      "Epoch 26/100\n",
      "8/8 [==============================] - 2s 256ms/step - loss: 0.4056 - acc: 0.8542 - val_loss: 0.6594 - val_acc: 0.6800\n",
      "Epoch 27/100\n",
      "8/8 [==============================] - 2s 247ms/step - loss: 0.4625 - acc: 0.7604 - val_loss: 0.5326 - val_acc: 0.7200\n",
      "Epoch 28/100\n",
      "8/8 [==============================] - 2s 260ms/step - loss: 0.6351 - acc: 0.6979 - val_loss: 0.4211 - val_acc: 0.7200\n",
      "Epoch 29/100\n",
      "8/8 [==============================] - 2s 266ms/step - loss: 0.5582 - acc: 0.7396 - val_loss: 0.3501 - val_acc: 0.8400\n",
      "Epoch 30/100\n",
      "8/8 [==============================] - 2s 251ms/step - loss: 0.4819 - acc: 0.7604 - val_loss: 0.3691 - val_acc: 0.8400\n",
      "Epoch 31/100\n",
      "8/8 [==============================] - 2s 250ms/step - loss: 0.3683 - acc: 0.8542 - val_loss: 0.3354 - val_acc: 0.8400\n",
      "Epoch 32/100\n",
      "8/8 [==============================] - 2s 251ms/step - loss: 0.4621 - acc: 0.8229 - val_loss: 0.3248 - val_acc: 0.8000\n",
      "Epoch 33/100\n",
      "8/8 [==============================] - 2s 255ms/step - loss: 0.4739 - acc: 0.8542 - val_loss: 0.4077 - val_acc: 0.6000\n",
      "Epoch 34/100\n",
      "8/8 [==============================] - 2s 259ms/step - loss: 0.5174 - acc: 0.7708 - val_loss: 0.4352 - val_acc: 0.5600\n",
      "Epoch 35/100\n",
      "8/8 [==============================] - 2s 260ms/step - loss: 0.4526 - acc: 0.7917 - val_loss: 0.3972 - val_acc: 0.6800\n",
      "Epoch 36/100\n",
      "8/8 [==============================] - 2s 254ms/step - loss: 0.5532 - acc: 0.7188 - val_loss: 0.3723 - val_acc: 0.7600\n",
      "Epoch 37/100\n",
      "8/8 [==============================] - 2s 258ms/step - loss: 0.4065 - acc: 0.8333 - val_loss: 0.3646 - val_acc: 0.7600\n",
      "Epoch 38/100\n",
      "8/8 [==============================] - 2s 280ms/step - loss: 0.4310 - acc: 0.8438 - val_loss: 0.3772 - val_acc: 0.8000\n",
      "Epoch 39/100\n",
      "8/8 [==============================] - 2s 271ms/step - loss: 0.4948 - acc: 0.8021 - val_loss: 0.3930 - val_acc: 0.8400\n",
      "Epoch 40/100\n",
      "8/8 [==============================] - 2s 263ms/step - loss: 0.4736 - acc: 0.7917 - val_loss: 0.4064 - val_acc: 0.8000\n",
      "Epoch 41/100\n",
      "8/8 [==============================] - 2s 265ms/step - loss: 0.3680 - acc: 0.8438 - val_loss: 0.3702 - val_acc: 0.8000\n",
      "Epoch 42/100\n",
      "8/8 [==============================] - 2s 256ms/step - loss: 0.4953 - acc: 0.7708 - val_loss: 0.3442 - val_acc: 0.8000\n",
      "Epoch 43/100\n",
      "8/8 [==============================] - 2s 253ms/step - loss: 0.4066 - acc: 0.8125 - val_loss: 0.3644 - val_acc: 0.8400\n",
      "Epoch 44/100\n",
      "8/8 [==============================] - 2s 262ms/step - loss: 0.5639 - acc: 0.7188 - val_loss: 0.4917 - val_acc: 0.7200\n",
      "Epoch 45/100\n",
      "8/8 [==============================] - 2s 250ms/step - loss: 0.4091 - acc: 0.8229 - val_loss: 0.4763 - val_acc: 0.6800\n",
      "Epoch 46/100\n",
      "8/8 [==============================] - 2s 261ms/step - loss: 0.5319 - acc: 0.7917 - val_loss: 0.4195 - val_acc: 0.8000\n",
      "Epoch 47/100\n",
      "8/8 [==============================] - 2s 258ms/step - loss: 0.3511 - acc: 0.8750 - val_loss: 0.5698 - val_acc: 0.7600\n",
      "Epoch 48/100\n",
      "8/8 [==============================] - 2s 258ms/step - loss: 0.5446 - acc: 0.7917 - val_loss: 0.5303 - val_acc: 0.8000\n",
      "Epoch 49/100\n",
      "8/8 [==============================] - 2s 259ms/step - loss: 0.4230 - acc: 0.8125 - val_loss: 0.3783 - val_acc: 0.8400\n",
      "Epoch 50/100\n",
      "8/8 [==============================] - 2s 267ms/step - loss: 0.4279 - acc: 0.8125 - val_loss: 0.3437 - val_acc: 0.8000\n",
      "Epoch 51/100\n",
      "8/8 [==============================] - 2s 259ms/step - loss: 0.4741 - acc: 0.7500 - val_loss: 0.3518 - val_acc: 0.8800\n",
      "Epoch 52/100\n",
      "8/8 [==============================] - 2s 256ms/step - loss: 0.4836 - acc: 0.7604 - val_loss: 0.5719 - val_acc: 0.7200\n",
      "Epoch 53/100\n",
      "8/8 [==============================] - 2s 266ms/step - loss: 0.4773 - acc: 0.7812 - val_loss: 0.5784 - val_acc: 0.7200\n",
      "Epoch 54/100\n",
      "8/8 [==============================] - 2s 258ms/step - loss: 0.5555 - acc: 0.7812 - val_loss: 0.8423 - val_acc: 0.6400\n",
      "Epoch 55/100\n",
      "8/8 [==============================] - 2s 263ms/step - loss: 0.5460 - acc: 0.7292 - val_loss: 1.0745 - val_acc: 0.6400\n",
      "Epoch 56/100\n",
      "8/8 [==============================] - 2s 256ms/step - loss: 0.5499 - acc: 0.7188 - val_loss: 1.1520 - val_acc: 0.6000\n",
      "Epoch 57/100\n",
      "8/8 [==============================] - 2s 262ms/step - loss: 0.4287 - acc: 0.8125 - val_loss: 0.7909 - val_acc: 0.7200\n",
      "Epoch 58/100\n",
      "8/8 [==============================] - 2s 253ms/step - loss: 0.4527 - acc: 0.7917 - val_loss: 0.4846 - val_acc: 0.8400\n",
      "Epoch 59/100\n",
      "8/8 [==============================] - 2s 258ms/step - loss: 0.5033 - acc: 0.8229 - val_loss: 0.3932 - val_acc: 0.8400\n",
      "Epoch 60/100\n",
      "8/8 [==============================] - 2s 255ms/step - loss: 0.4696 - acc: 0.8125 - val_loss: 0.3732 - val_acc: 0.8400\n",
      "Epoch 61/100\n",
      "8/8 [==============================] - 2s 261ms/step - loss: 0.4645 - acc: 0.8125 - val_loss: 0.3848 - val_acc: 0.7200\n",
      "Epoch 62/100\n",
      "8/8 [==============================] - 2s 257ms/step - loss: 0.3641 - acc: 0.8646 - val_loss: 0.4247 - val_acc: 0.6400\n"
     ]
    },
    {
     "name": "stdout",
     "output_type": "stream",
     "text": [
      "Epoch 63/100\n",
      "8/8 [==============================] - 2s 254ms/step - loss: 0.4817 - acc: 0.7396 - val_loss: 0.4506 - val_acc: 0.6400\n",
      "Epoch 64/100\n",
      "8/8 [==============================] - 2s 262ms/step - loss: 0.5125 - acc: 0.7917 - val_loss: 0.3744 - val_acc: 0.8400\n",
      "Epoch 65/100\n",
      "8/8 [==============================] - 2s 257ms/step - loss: 0.4608 - acc: 0.8229 - val_loss: 0.4013 - val_acc: 0.8400\n",
      "Epoch 66/100\n",
      "8/8 [==============================] - 2s 256ms/step - loss: 0.3711 - acc: 0.8646 - val_loss: 0.4135 - val_acc: 0.8400\n",
      "Epoch 67/100\n",
      "8/8 [==============================] - 2s 259ms/step - loss: 0.3966 - acc: 0.8542 - val_loss: 0.4270 - val_acc: 0.8400\n",
      "Epoch 68/100\n",
      "8/8 [==============================] - 2s 256ms/step - loss: 0.3606 - acc: 0.8438 - val_loss: 0.5450 - val_acc: 0.7600\n",
      "Epoch 69/100\n",
      "8/8 [==============================] - 2s 256ms/step - loss: 0.3243 - acc: 0.8542 - val_loss: 0.4028 - val_acc: 0.7600\n",
      "Epoch 70/100\n",
      "8/8 [==============================] - 2s 261ms/step - loss: 0.4120 - acc: 0.8542 - val_loss: 0.3570 - val_acc: 0.8400\n",
      "Epoch 71/100\n",
      "8/8 [==============================] - 2s 264ms/step - loss: 0.3347 - acc: 0.8646 - val_loss: 0.5356 - val_acc: 0.7200\n",
      "Epoch 72/100\n",
      "8/8 [==============================] - 2s 255ms/step - loss: 0.4159 - acc: 0.8542 - val_loss: 0.6357 - val_acc: 0.7200\n",
      "Epoch 73/100\n",
      "8/8 [==============================] - 2s 261ms/step - loss: 0.4171 - acc: 0.8438 - val_loss: 0.6029 - val_acc: 0.7600\n",
      "Epoch 74/100\n",
      "8/8 [==============================] - 2s 259ms/step - loss: 0.5502 - acc: 0.7292 - val_loss: 0.4855 - val_acc: 0.7600\n",
      "Epoch 75/100\n",
      "8/8 [==============================] - 2s 261ms/step - loss: 0.4792 - acc: 0.8021 - val_loss: 0.8005 - val_acc: 0.6800\n",
      "Epoch 76/100\n",
      "8/8 [==============================] - 2s 256ms/step - loss: 0.3643 - acc: 0.8438 - val_loss: 0.6354 - val_acc: 0.7200\n",
      "Epoch 77/100\n",
      "8/8 [==============================] - 2s 253ms/step - loss: 0.5310 - acc: 0.7708 - val_loss: 0.5688 - val_acc: 0.8000\n",
      "Epoch 78/100\n",
      "8/8 [==============================] - 2s 259ms/step - loss: 0.3672 - acc: 0.8542 - val_loss: 0.5356 - val_acc: 0.7600\n",
      "Epoch 79/100\n",
      "8/8 [==============================] - 2s 256ms/step - loss: 0.4261 - acc: 0.7917 - val_loss: 0.4759 - val_acc: 0.7600\n",
      "Epoch 80/100\n",
      "8/8 [==============================] - 2s 259ms/step - loss: 0.5124 - acc: 0.7917 - val_loss: 0.4669 - val_acc: 0.7600\n",
      "Epoch 81/100\n",
      "8/8 [==============================] - 2s 263ms/step - loss: 0.4183 - acc: 0.8021 - val_loss: 0.5444 - val_acc: 0.7600\n",
      "Epoch 82/100\n",
      "8/8 [==============================] - 2s 261ms/step - loss: 0.4234 - acc: 0.8438 - val_loss: 0.5930 - val_acc: 0.7200\n",
      "Epoch 83/100\n",
      "8/8 [==============================] - 2s 257ms/step - loss: 0.4285 - acc: 0.8646 - val_loss: 0.5496 - val_acc: 0.7600\n",
      "Epoch 84/100\n",
      "8/8 [==============================] - 2s 266ms/step - loss: 0.4779 - acc: 0.7812 - val_loss: 0.3490 - val_acc: 0.8400\n",
      "Epoch 85/100\n",
      "8/8 [==============================] - 2s 256ms/step - loss: 0.4025 - acc: 0.8438 - val_loss: 0.3358 - val_acc: 0.8400\n",
      "Epoch 86/100\n",
      "8/8 [==============================] - 2s 256ms/step - loss: 0.4390 - acc: 0.8229 - val_loss: 0.3633 - val_acc: 0.8000\n",
      "Epoch 87/100\n",
      "8/8 [==============================] - 2s 262ms/step - loss: 0.5607 - acc: 0.7292 - val_loss: 0.4129 - val_acc: 0.8000\n",
      "Epoch 88/100\n",
      "8/8 [==============================] - 2s 256ms/step - loss: 0.4126 - acc: 0.8125 - val_loss: 0.3644 - val_acc: 0.8400\n",
      "Epoch 89/100\n",
      "8/8 [==============================] - 2s 262ms/step - loss: 0.3649 - acc: 0.8646 - val_loss: 0.3830 - val_acc: 0.8000\n",
      "Epoch 90/100\n",
      "8/8 [==============================] - 2s 258ms/step - loss: 0.3998 - acc: 0.8438 - val_loss: 0.4229 - val_acc: 0.8000\n",
      "Epoch 91/100\n",
      "8/8 [==============================] - 2s 259ms/step - loss: 0.4123 - acc: 0.8229 - val_loss: 0.6468 - val_acc: 0.7200\n",
      "Epoch 92/100\n",
      "8/8 [==============================] - 2s 258ms/step - loss: 0.4631 - acc: 0.8229 - val_loss: 0.3888 - val_acc: 0.7600\n",
      "Epoch 93/100\n",
      "8/8 [==============================] - 2s 256ms/step - loss: 0.4717 - acc: 0.8021 - val_loss: 0.3778 - val_acc: 0.8400\n",
      "Epoch 94/100\n",
      "8/8 [==============================] - 2s 259ms/step - loss: 0.4946 - acc: 0.7917 - val_loss: 0.3802 - val_acc: 0.8000\n",
      "Epoch 95/100\n",
      "8/8 [==============================] - 2s 262ms/step - loss: 0.4265 - acc: 0.7812 - val_loss: 0.3692 - val_acc: 0.8400\n",
      "Epoch 96/100\n",
      "8/8 [==============================] - 2s 270ms/step - loss: 0.4143 - acc: 0.7917 - val_loss: 0.3518 - val_acc: 0.7600\n",
      "Epoch 97/100\n",
      "8/8 [==============================] - 2s 257ms/step - loss: 0.4644 - acc: 0.7708 - val_loss: 0.3759 - val_acc: 0.7200\n",
      "Epoch 98/100\n",
      "8/8 [==============================] - 2s 254ms/step - loss: 0.4318 - acc: 0.8542 - val_loss: 0.3329 - val_acc: 0.8400\n",
      "Epoch 99/100\n",
      "8/8 [==============================] - 2s 257ms/step - loss: 0.4587 - acc: 0.7812 - val_loss: 0.4092 - val_acc: 0.7200\n",
      "Epoch 100/100\n",
      "8/8 [==============================] - 2s 258ms/step - loss: 0.4986 - acc: 0.7708 - val_loss: 0.4545 - val_acc: 0.7200\n"
     ]
    }
   ],
   "source": [
    "history = lstm_model.train(train_generator=prep_helper.train_batch_generator(bs), train_config=training_config)"
   ]
  },
  {
   "cell_type": "code",
   "execution_count": 13,
   "metadata": {},
   "outputs": [
    {
     "name": "stdout",
     "output_type": "stream",
     "text": [
      "\r",
      "25/25 [==============================] - 0s 4ms/sample - loss: 0.5350 - acc: 0.7200\n"
     ]
    },
    {
     "data": {
      "text/plain": [
       "[0.5350350737571716, 0.72]"
      ]
     },
     "execution_count": 13,
     "metadata": {},
     "output_type": "execute_result"
    }
   ],
   "source": [
    "lstm_model.model.evaluate(x=prep_helper.X_val, y=prep_helper.y_val, batch_size=5000)"
   ]
  },
  {
   "cell_type": "code",
   "execution_count": 2,
   "metadata": {},
   "outputs": [],
   "source": [
    "import matplotlib.pyplot as plt\n",
    "\n",
    "%matplotlib inline"
   ]
  },
  {
   "cell_type": "code",
   "execution_count": 3,
   "metadata": {},
   "outputs": [
    {
     "ename": "NameError",
     "evalue": "name 'history' is not defined",
     "output_type": "error",
     "traceback": [
      "\u001b[0;31m---------------------------------------------------------------------------\u001b[0m",
      "\u001b[0;31mNameError\u001b[0m                                 Traceback (most recent call last)",
      "\u001b[0;32m<ipython-input-3-2794db1280ec>\u001b[0m in \u001b[0;36m<module>\u001b[0;34m\u001b[0m\n\u001b[0;32m----> 1\u001b[0;31m \u001b[0mplt\u001b[0m\u001b[0;34m.\u001b[0m\u001b[0mplot\u001b[0m\u001b[0;34m(\u001b[0m\u001b[0mhistory\u001b[0m\u001b[0;34m.\u001b[0m\u001b[0mhistory\u001b[0m\u001b[0;34m[\u001b[0m\u001b[0;34m'acc'\u001b[0m\u001b[0;34m]\u001b[0m\u001b[0;34m)\u001b[0m\u001b[0;34m\u001b[0m\u001b[0;34m\u001b[0m\u001b[0m\n\u001b[0m\u001b[1;32m      2\u001b[0m \u001b[0mplt\u001b[0m\u001b[0;34m.\u001b[0m\u001b[0mplot\u001b[0m\u001b[0;34m(\u001b[0m\u001b[0mhistory\u001b[0m\u001b[0;34m.\u001b[0m\u001b[0mhistory\u001b[0m\u001b[0;34m[\u001b[0m\u001b[0;34m'val_acc'\u001b[0m\u001b[0;34m]\u001b[0m\u001b[0;34m)\u001b[0m\u001b[0;34m\u001b[0m\u001b[0;34m\u001b[0m\u001b[0m\n\u001b[1;32m      3\u001b[0m \u001b[0mplt\u001b[0m\u001b[0;34m.\u001b[0m\u001b[0mtitle\u001b[0m\u001b[0;34m(\u001b[0m\u001b[0;34m'Model accuracy'\u001b[0m\u001b[0;34m)\u001b[0m\u001b[0;34m\u001b[0m\u001b[0;34m\u001b[0m\u001b[0m\n\u001b[1;32m      4\u001b[0m \u001b[0mplt\u001b[0m\u001b[0;34m.\u001b[0m\u001b[0mylabel\u001b[0m\u001b[0;34m(\u001b[0m\u001b[0;34m'Accuracy'\u001b[0m\u001b[0;34m)\u001b[0m\u001b[0;34m\u001b[0m\u001b[0;34m\u001b[0m\u001b[0m\n\u001b[1;32m      5\u001b[0m \u001b[0mplt\u001b[0m\u001b[0;34m.\u001b[0m\u001b[0mxlabel\u001b[0m\u001b[0;34m(\u001b[0m\u001b[0;34m'Epoch'\u001b[0m\u001b[0;34m)\u001b[0m\u001b[0;34m\u001b[0m\u001b[0;34m\u001b[0m\u001b[0m\n",
      "\u001b[0;31mNameError\u001b[0m: name 'history' is not defined"
     ]
    }
   ],
   "source": [
    "plt.plot(history.history['acc'])\n",
    "plt.plot(history.history['val_acc'])\n",
    "plt.title('Model accuracy')\n",
    "plt.ylabel('Accuracy')\n",
    "plt.xlabel('Epoch')\n",
    "plt.legend(['Train', 'Test'], loc='upper left')\n",
    "plt.show()"
   ]
  },
  {
   "cell_type": "code",
   "execution_count": 24,
   "metadata": {},
   "outputs": [
    {
     "data": {
      "image/png": "[encoded data removed]",
      "text/plain": [
       "<Figure size 432x288 with 1 Axes>"
      ]
     },
     "metadata": {
      "needs_background": "light"
     },
     "output_type": "display_data"
    }
   ],
   "source": [
    "# Plot training & validation loss values\n",
    "plt.plot(history.history['loss'])\n",
    "plt.plot(history.history['val_loss'])\n",
    "plt.title('Model loss')\n",
    "plt.ylabel('Loss')\n",
    "plt.xlabel('Epoch')\n",
    "plt.legend(['Train', 'Test'], loc='upper left')\n",
    "plt.show()"
   ]
  },
  {
   "cell_type": "code",
   "execution_count": 9,
   "metadata": {},
   "outputs": [],
   "source": [
    "from tensorflow.keras.preprocessing.sequence import pad_sequences\n",
    "import numpy as np"
   ]
  },
  {
   "cell_type": "code",
   "execution_count": 10,
   "metadata": {},
   "outputs": [
    {
     "name": "stdout",
     "output_type": "stream",
     "text": [
      "cleaned text ['with all this stuff going down at the moment with mj i ve started listening to his music watching the odd documentary here and there watched the wiz and watched moonwalker again maybe i just want to get a certain insight into this guy who i thought was really cool in the eighties just to maybe make up my mind whether he is guilty or innocent moonwalker is part biography part feature film which i remember going to see at the cinema when it was originally released some of it has subtle messages about mj s feeling towards the press and also the obvious message of drugs are bad m kay visually impressive but of course this is all about michael jackson so unless you remotely like mj in anyway then you are going to hate this and find it boring some may call mj an egotist for consenting to the making of this movie but mj and most of his fans would say that he made it for the fans which if true is really nice of him the actual feature film bit when it finally starts is only on for minutes or so excluding the smooth criminal sequence and joe pesci is convincing as a psychopathic all powerful drug lord why he wants mj dead so bad is beyond me because mj overheard his plans nah joe pesci s character ranted that he wanted people to know it is he who is supplying drugs etc so i dunno maybe he just hates mj s music lots of cool things in this like mj turning into a car and a robot and the whole speed demon sequence also the director must have had the patience of a saint when it came to filming the kiddy bad sequence as usually directors hate working with one kid let alone a whole bunch of them performing a complex dance scene bottom line this movie is for people who like mj on one level or another which i think is most people if not then stay away it does try and give off a wholesome message and ironically mj s bestest buddy in this movie is a girl michael jackson is truly one of the most talented people ever to grace this planet but is he guilty well with all the attention i ve gave this subject hmmm well i don t know because people can be different behind closed doors i know this for a fact he is either an extremely nice but stupid guy or one of the most sickest liars i hope he is not the latter']\n",
      "input to the model:  [[   17    31    11   529   169   180    32     2   546    17  8964    10\n",
      "    138   635  2600     6    27   223   148     2  1009   644   127     3\n",
      "     40   293     2 18842     3   293 11398   173   278    10    43   181\n",
      "      6    75     4   794  2601    83    11   225    36    10   195    14\n",
      "     65   627     9     2  4220    43     6   278    95    56    60   327\n",
      "    711    25     7  2476    42  1331 11398     7   172  4972   172   768\n",
      "     20    62    10   371   169     6    66    32     2   423    54     8\n",
      "     14  1803   615    49     5     8    47  1279  3409    44  8964    13\n",
      "    537   929     2  3486     3    82     2   567   730     5  1640    26\n",
      "     76   141  4569  1993  1134    19     5   259    11     7    31    44\n",
      "    466  1580    37   878    22  2565    39  8964     9   544    93    22\n",
      "     26   169     6   770    11     3   168     8   353    49   199   669\n",
      "   8964    35 26220    16 26221     6     2   228     5    11    18    19\n",
      "   8964     3    90     5    27   446    61   133    12    25    91     8\n",
      "     16     2   446    62    46   280     7    65   324     5    88     2\n",
      "    766   768    20   224    54     8   413   506     7    64    23    16\n",
      "    229    42    37 15688     2  3460  1635   704]]\n",
      "Prediction:  [[0.1598848]]\n"
     ]
    }
   ],
   "source": [
    "test_text = \"With all this stuff going down at the moment with MJ i've started listening to his music, watching the odd documentary here and there, watched The Wiz and watched Moonwalker again. Maybe i just want to get a certain insight into this guy who i thought was really cool in the eighties just to maybe make up my mind whether he is guilty or innocent. Moonwalker is part biography, part feature film which i remember going to see at the cinema when it was originally released. Some of it has subtle messages about MJ's feeling towards the press and also the obvious message of drugs are bad m'kay.<br /><br />Visually impressive but of course this is all about Michael Jackson so unless you remotely like MJ in anyway then you are going to hate this and find it boring. Some may call MJ an egotist for consenting to the making of this movie BUT MJ and most of his fans would say that he made it for the fans which if true is really nice of him.<br /><br />The actual feature film bit when it finally starts is only on for 20 minutes or so excluding the Smooth Criminal sequence and Joe Pesci is convincing as a psychopathic all powerful drug lord. Why he wants MJ dead so bad is beyond me. Because MJ overheard his plans? Nah, Joe Pesci's character ranted that he wanted people to know it is he who is supplying drugs etc so i dunno, maybe he just hates MJ's music.<br /><br />Lots of cool things in this like MJ turning into a car and a robot and the whole Speed Demon sequence. Also, the director must have had the patience of a saint when it came to filming the kiddy Bad sequence as usually directors hate working with one kid let alone a whole bunch of them performing a complex dance scene.<br /><br />Bottom line, this movie is for people who like MJ on one level or another (which i think is most people). If not, then stay away. It does try and give off a wholesome message and ironically MJ's bestest buddy in this movie is a girl! Michael Jackson is truly one of the most talented people ever to grace this planet but is he guilty? Well, with all the attention i've gave this subject....hmmm well i don't know because people can be different behind closed doors, i know this for a fact. He is either an extremely nice but stupid guy or one of the most sickest liars. I hope he is not the latter\"\n",
    "# test_text = \"Bad movie, really really bad\"\n",
    "tokenizer = prep_helper.tokenizer\n",
    "cleaned_text = prep_helper.clean_docs([test_text])\n",
    "print(\"cleaned text\", cleaned_text)\n",
    "text_ids = tokenizer.texts_to_sequences(cleaned_text)\n",
    "# print(\"Text ids: \", text_ids)\n",
    "text_ids_padded = pad_sequences(text_ids, maxlen=200, padding=\"post\", truncating=\"post\")\n",
    "print(\"input to the model: \", text_ids_padded)\n",
    "text_ids_padded = np.array(text_ids_padded)\n",
    "# text_to_model = tokenizer.sequences_to_texts(text_ids_padded)\n",
    "# print(\"actual text to model: \", text_to_model)\n",
    "# print(\"<UNK> id: \", tokenizer.word_index[\"<UNKNOWN>\"])\n",
    "# print(\"<PADDING> is\", tokenizer.word_index[\"<PADDING>\"])\n",
    "lstm_helper = lstm_model\n",
    "result = lstm_helper.model.predict(text_ids_padded)\n",
    "print(\"Prediction: \", result)"
   ]
  },
  {
   "cell_type": "code",
   "execution_count": null,
   "metadata": {},
   "outputs": [],
   "source": []
  },
  {
   "cell_type": "code",
   "execution_count": null,
   "metadata": {},
   "outputs": [],
   "source": []
  }
 ],
 "metadata": {
  "kernelspec": {
   "display_name": "Python 3",
   "language": "python",
   "name": "python3"
  },
  "language_info": {
   "codemirror_mode": {
    "name": "ipython",
    "version": 3
   },
   "file_extension": ".py",
   "mimetype": "text/x-python",
   "name": "python",
   "nbconvert_exporter": "python",
   "pygments_lexer": "ipython3",
   "version": "3.7.4"
  }
 },
 "nbformat": 4,
 "nbformat_minor": 2
}
