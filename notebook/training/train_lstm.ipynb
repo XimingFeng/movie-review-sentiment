{
 "cells": [
  {
   "cell_type": "code",
   "execution_count": 1,
   "metadata": {},
   "outputs": [],
   "source": [
    "import os\n",
    "import sys\n",
    "import importlib\n",
    "import autoreload\n",
    "\n",
    "%load_ext autoreload\n",
    "%autoreload 2"
   ]
  },
  {
   "cell_type": "code",
   "execution_count": 2,
   "metadata": {
    "collapsed": true
   },
   "outputs": [],
   "source": [
    "module_path = os.path.abspath(os.path.join('../..'))\n",
    "if module_path not in sys.path:\n",
    "    sys.path.append(module_path)"
   ]
  },
  {
   "cell_type": "code",
   "execution_count": 3,
   "metadata": {
    "collapsed": true
   },
   "outputs": [],
   "source": [
    "from src.lstm import lstm_classifier"
   ]
  },
  {
   "cell_type": "code",
   "execution_count": 6,
   "metadata": {},
   "outputs": [
    {
     "name": "stdout",
     "output_type": "stream",
     "text": [
      "Cleaned data exists, load directly from pickle file\n",
      "INFO:tensorflow:Restoring parameters from /home/ximing/dl/projects/movie-review/model/basic_lstm/basic_lstm\n",
      "Graph built from meta file\n"
     ]
    }
   ],
   "source": [
    "lstm_model = lstm_classifier(num_wds=200, \n",
    "                        embed_size=300,\n",
    "                        lstm_size=128, \n",
    "                        dense_size=[1024, 256], \n",
    "                        class_num=2, \n",
    "                        learning_rate=0.001,\n",
    "                        batch_size=256, \n",
    "                        root_dir=module_path)"
   ]
  },
  {
   "cell_type": "code",
   "execution_count": null,
   "metadata": {
    "collapsed": true
   },
   "outputs": [],
   "source": []
  },
  {
   "cell_type": "code",
   "execution_count": null,
   "metadata": {
    "collapsed": true
   },
   "outputs": [],
   "source": []
  },
  {
   "cell_type": "code",
   "execution_count": 5,
   "metadata": {
    "collapsed": true
   },
   "outputs": [],
   "source": [
    "X_sample, y_sample = lstm_model.data_helper.get_next_batch(epoch=0)"
   ]
  },
  {
   "cell_type": "code",
   "execution_count": 6,
   "metadata": {},
   "outputs": [
    {
     "data": {
      "text/plain": [
       "(128, 200)"
      ]
     },
     "execution_count": 6,
     "metadata": {},
     "output_type": "execute_result"
    }
   ],
   "source": [
    "X_sample.shape"
   ]
  },
  {
   "cell_type": "code",
   "execution_count": 7,
   "metadata": {},
   "outputs": [
    {
     "data": {
      "text/plain": [
       "(128, 2)"
      ]
     },
     "execution_count": 7,
     "metadata": {},
     "output_type": "execute_result"
    }
   ],
   "source": [
    "y_sample.shape"
   ]
  },
  {
   "cell_type": "code",
   "execution_count": null,
   "metadata": {
    "collapsed": true
   },
   "outputs": [],
   "source": []
  },
  {
   "cell_type": "code",
   "execution_count": 7,
   "metadata": {
    "scrolled": true
   },
   "outputs": [
    {
     "name": "stdout",
     "output_type": "stream",
     "text": [
      "Training loss: 0.33779752, accuracy: 0.92578125\n",
      "Training loss: 0.2973803, accuracy: 0.91796875\n",
      "Training loss: 0.2570608, accuracy: 0.9453125\n",
      "Training loss: 0.21760604, accuracy: 0.9453125\n",
      "Training loss: 0.19580871, accuracy: 0.9453125\n",
      "Training loss: 0.17612794, accuracy: 0.94921875\n",
      "Training loss: 0.13524553, accuracy: 0.9609375\n",
      "Training loss: 0.12223545, accuracy: 0.96484375\n",
      "Training loss: 0.10683446, accuracy: 0.96484375\n",
      "Training loss: 0.10673653, accuracy: 0.96484375\n",
      "Training loss: 0.09618002, accuracy: 0.98046875\n",
      "Training loss: 0.08926322, accuracy: 0.98046875\n",
      "Training loss: 0.0893119, accuracy: 0.98046875\n",
      "Training loss: 0.08727281, accuracy: 0.98046875\n",
      "Training loss: 0.07747355, accuracy: 0.98046875\n",
      "Training loss: 0.07078461, accuracy: 0.98046875\n",
      "Better accuracy found. LSTM model saved\n",
      "----------------- Step 0: validation accuracy 0.92832 ----------------\n"
     ]
    }
   ],
   "source": [
    "lstm_model.train_model(steps=16, epochs=1)"
   ]
  },
  {
   "cell_type": "code",
   "execution_count": null,
   "metadata": {
    "collapsed": true
   },
   "outputs": [],
   "source": []
  }
 ],
 "metadata": {
  "kernelspec": {
   "display_name": "Python 3",
   "language": "python",
   "name": "python3"
  },
  "language_info": {
   "codemirror_mode": {
    "name": "ipython",
    "version": 3
   },
   "file_extension": ".py",
   "mimetype": "text/x-python",
   "name": "python",
   "nbconvert_exporter": "python",
   "pygments_lexer": "ipython3",
   "version": "3.5.4"
  }
 },
 "nbformat": 4,
 "nbformat_minor": 2
}
