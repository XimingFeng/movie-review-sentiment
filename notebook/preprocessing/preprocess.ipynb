{
 "cells": [
  {
   "cell_type": "code",
   "execution_count": 1,
   "metadata": {},
   "outputs": [],
   "source": [
    "import os\n",
    "import sys\n",
    "\n",
    "\n",
    "import autoreload\n",
    "\n",
    "%load_ext autoreload\n",
    "%autoreload 2"
   ]
  },
  {
   "cell_type": "code",
   "execution_count": 2,
   "metadata": {
    "collapsed": true
   },
   "outputs": [],
   "source": [
    "module_path = os.path.abspath(os.path.join('../..'))\n",
    "if module_path not in sys.path:\n",
    "    sys.path.append(module_path)"
   ]
  },
  {
   "cell_type": "code",
   "execution_count": 3,
   "metadata": {
    "collapsed": true
   },
   "outputs": [],
   "source": [
    "import src.popcorn as popcorn"
   ]
  },
  {
   "cell_type": "code",
   "execution_count": null,
   "metadata": {
    "collapsed": true
   },
   "outputs": [],
   "source": []
  },
  {
   "cell_type": "code",
   "execution_count": 4,
   "metadata": {
    "collapsed": true
   },
   "outputs": [],
   "source": [
    "\n",
    "popcorn_helper = popcorn.PopcornHelper(root_directory=module_path)"
   ]
  },
  {
   "cell_type": "code",
   "execution_count": 5,
   "metadata": {},
   "outputs": [
    {
     "name": "stdout",
     "output_type": "stream",
     "text": [
      "Data not cleaned yet. Start to clean up and save cleaned data\n",
      "Training label ready\n",
      "sentence 0 cleaned\n",
      "sentence 1000 cleaned\n",
      "sentence 2000 cleaned\n",
      "sentence 3000 cleaned\n",
      "sentence 4000 cleaned\n",
      "sentence 5000 cleaned\n",
      "sentence 6000 cleaned\n",
      "sentence 7000 cleaned\n",
      "sentence 8000 cleaned\n",
      "sentence 9000 cleaned\n",
      "sentence 10000 cleaned\n",
      "sentence 11000 cleaned\n",
      "sentence 12000 cleaned\n",
      "sentence 13000 cleaned\n",
      "sentence 14000 cleaned\n",
      "sentence 15000 cleaned\n",
      "sentence 16000 cleaned\n",
      "sentence 17000 cleaned\n",
      "sentence 18000 cleaned\n",
      "sentence 19000 cleaned\n",
      "sentence 20000 cleaned\n",
      "sentence 21000 cleaned\n",
      "sentence 22000 cleaned\n",
      "sentence 23000 cleaned\n",
      "sentence 24000 cleaned\n",
      "Training data cleaned\n",
      "sentence 0 cleaned\n",
      "sentence 1000 cleaned\n",
      "sentence 2000 cleaned\n",
      "sentence 3000 cleaned\n",
      "sentence 4000 cleaned\n",
      "sentence 5000 cleaned\n",
      "sentence 6000 cleaned\n",
      "sentence 7000 cleaned\n",
      "sentence 8000 cleaned\n",
      "sentence 9000 cleaned\n",
      "sentence 10000 cleaned\n",
      "sentence 11000 cleaned\n",
      "sentence 12000 cleaned\n",
      "sentence 13000 cleaned\n",
      "sentence 14000 cleaned\n",
      "sentence 15000 cleaned\n",
      "sentence 16000 cleaned\n",
      "sentence 17000 cleaned\n",
      "sentence 18000 cleaned\n",
      "sentence 19000 cleaned\n",
      "sentence 20000 cleaned\n",
      "sentence 21000 cleaned\n",
      "sentence 22000 cleaned\n",
      "sentence 23000 cleaned\n",
      "sentence 24000 cleaned\n",
      "Testing data cleaned\n",
      "Dictionary built and saved\n",
      "Words converted to IDs\n"
     ]
    }
   ],
   "source": [
    "popcorn_helper.setup_data()"
   ]
  },
  {
   "cell_type": "code",
   "execution_count": 58,
   "metadata": {
    "collapsed": true
   },
   "outputs": [],
   "source": [
    "popcorn_helper.pad_train_test(max_len=200)"
   ]
  },
  {
   "cell_type": "code",
   "execution_count": 59,
   "metadata": {},
   "outputs": [
    {
     "data": {
      "text/plain": [
       "(25000, 200)"
      ]
     },
     "execution_count": 59,
     "metadata": {},
     "output_type": "execute_result"
    }
   ],
   "source": [
    "popcorn_helper.X_train.shape"
   ]
  },
  {
   "cell_type": "code",
   "execution_count": 60,
   "metadata": {},
   "outputs": [
    {
     "data": {
      "text/plain": [
       "(25000, 200)"
      ]
     },
     "execution_count": 60,
     "metadata": {},
     "output_type": "execute_result"
    }
   ],
   "source": [
    "popcorn_helper.X_test.shape"
   ]
  },
  {
   "cell_type": "code",
   "execution_count": 61,
   "metadata": {
    "collapsed": true
   },
   "outputs": [],
   "source": [
    "popcorn_helper.set_train_validation()"
   ]
  },
  {
   "cell_type": "code",
   "execution_count": 62,
   "metadata": {},
   "outputs": [
    {
     "data": {
      "text/plain": [
       "(18750, 200)"
      ]
     },
     "execution_count": 62,
     "metadata": {},
     "output_type": "execute_result"
    }
   ],
   "source": [
    "popcorn_helper.X_train.shape"
   ]
  },
  {
   "cell_type": "code",
   "execution_count": 63,
   "metadata": {},
   "outputs": [
    {
     "data": {
      "text/plain": [
       "(6250, 200)"
      ]
     },
     "execution_count": 63,
     "metadata": {},
     "output_type": "execute_result"
    }
   ],
   "source": [
    "popcorn_helper.X_val.shape"
   ]
  },
  {
   "cell_type": "code",
   "execution_count": 64,
   "metadata": {
    "collapsed": true
   },
   "outputs": [],
   "source": [
    "X_batch, y_batch = popcorn_helper.get_next_batch(epoch=0)"
   ]
  },
  {
   "cell_type": "code",
   "execution_count": 66,
   "metadata": {},
   "outputs": [
    {
     "data": {
      "text/plain": [
       "(100, 200)"
      ]
     },
     "execution_count": 66,
     "metadata": {},
     "output_type": "execute_result"
    }
   ],
   "source": [
    "X_batch.shape"
   ]
  },
  {
   "cell_type": "code",
   "execution_count": 67,
   "metadata": {},
   "outputs": [
    {
     "data": {
      "text/plain": [
       "(100,)"
      ]
     },
     "execution_count": 67,
     "metadata": {},
     "output_type": "execute_result"
    }
   ],
   "source": [
    "y_batch.shape"
   ]
  },
  {
   "cell_type": "code",
   "execution_count": null,
   "metadata": {
    "collapsed": true
   },
   "outputs": [],
   "source": []
  }
 ],
 "metadata": {
  "kernelspec": {
   "display_name": "Python 3",
   "language": "python",
   "name": "python3"
  },
  "language_info": {
   "codemirror_mode": {
    "name": "ipython",
    "version": 3
   },
   "file_extension": ".py",
   "mimetype": "text/x-python",
   "name": "python",
   "nbconvert_exporter": "python",
   "pygments_lexer": "ipython3",
   "version": "3.7.4"
  }
 },
 "nbformat": 4,
 "nbformat_minor": 2
}
